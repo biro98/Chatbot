{
 "cells": [
  {
   "cell_type": "code",
   "execution_count": 1,
   "id": "eaffb727",
   "metadata": {},
   "outputs": [
    {
     "name": "stdout",
     "output_type": "stream",
     "text": [
      "Batch shapes: torch.Size([64, 19]) torch.Size([64, 17])\n",
      "2072\n",
      "2147\n",
      "Device: cpu\n",
      "2072\n",
      "2147\n",
      "Source Vocabulary Size: 2072\n",
      "Target Vocabulary Size: 2147\n"
     ]
    },
    {
     "name": "stderr",
     "output_type": "stream",
     "text": [
      "  2%|█                                           | 1/40 [01:15<49:10, 75.66s/it]"
     ]
    },
    {
     "name": "stdout",
     "output_type": "stream",
     "text": [
      "Epoch 1/40, Loss: 2.197827808400418\n"
     ]
    },
    {
     "name": "stderr",
     "output_type": "stream",
     "text": [
      " 12%|█████▌                                      | 5/40 [06:04<42:12, 72.35s/it]"
     ]
    },
    {
     "name": "stdout",
     "output_type": "stream",
     "text": [
      "Epoch 5/40, Loss: 0.8366327285766602\n"
     ]
    },
    {
     "name": "stderr",
     "output_type": "stream",
     "text": [
      " 22%|█████████▉                                  | 9/40 [10:54<37:19, 72.24s/it]"
     ]
    },
    {
     "name": "stdout",
     "output_type": "stream",
     "text": [
      "Epoch 9/40, Loss: 0.07289392952906325\n"
     ]
    },
    {
     "name": "stderr",
     "output_type": "stream",
     "text": [
      " 32%|█████████████▉                             | 13/40 [15:46<32:41, 72.64s/it]"
     ]
    },
    {
     "name": "stdout",
     "output_type": "stream",
     "text": [
      "Epoch 13/40, Loss: 0.02037754793591956\n"
     ]
    },
    {
     "name": "stderr",
     "output_type": "stream",
     "text": [
      " 42%|██████████████████▎                        | 17/40 [20:33<27:41, 72.23s/it]"
     ]
    },
    {
     "name": "stdout",
     "output_type": "stream",
     "text": [
      "Epoch 17/40, Loss: 0.015598146314237346\n"
     ]
    },
    {
     "name": "stderr",
     "output_type": "stream",
     "text": [
      " 52%|██████████████████████▌                    | 21/40 [25:17<22:33, 71.21s/it]"
     ]
    },
    {
     "name": "stdout",
     "output_type": "stream",
     "text": [
      "Epoch 21/40, Loss: 0.014562862469477857\n"
     ]
    },
    {
     "name": "stderr",
     "output_type": "stream",
     "text": [
      " 62%|██████████████████████████▉                | 25/40 [30:03<17:54, 71.63s/it]"
     ]
    },
    {
     "name": "stdout",
     "output_type": "stream",
     "text": [
      "Epoch 25/40, Loss: 0.01465218636068575\n"
     ]
    },
    {
     "name": "stderr",
     "output_type": "stream",
     "text": [
      " 72%|███████████████████████████████▏           | 29/40 [34:56<13:23, 73.01s/it]"
     ]
    },
    {
     "name": "stdout",
     "output_type": "stream",
     "text": [
      "Epoch 29/40, Loss: 0.015152472338857168\n"
     ]
    },
    {
     "name": "stderr",
     "output_type": "stream",
     "text": [
      " 82%|███████████████████████████████████▍       | 33/40 [39:51<08:34, 73.56s/it]"
     ]
    },
    {
     "name": "stdout",
     "output_type": "stream",
     "text": [
      "Epoch 33/40, Loss: 0.016768292632905094\n"
     ]
    },
    {
     "name": "stderr",
     "output_type": "stream",
     "text": [
      " 92%|███████████████████████████████████████▊   | 37/40 [44:37<03:34, 71.64s/it]"
     ]
    },
    {
     "name": "stdout",
     "output_type": "stream",
     "text": [
      "Epoch 37/40, Loss: 0.02010948586456002\n"
     ]
    },
    {
     "name": "stderr",
     "output_type": "stream",
     "text": [
      "100%|███████████████████████████████████████████| 40/40 [48:14<00:00, 72.37s/it]\n"
     ]
    }
   ],
   "source": [
    "import torch\n",
    "import pickle\n",
    "import torch.optim as optim\n",
    "import torch.nn.functional as F\n",
    "from tqdm import tqdm\n",
    "\n",
    "\n",
    "%run 'Dataset_and_preprocessing.ipynb'\n",
    "\n",
    "%run 'model.ipynb'\n",
    "\n",
    "print(\"Source Vocabulary Size:\", len(src_vocab))\n",
    "print(\"Target Vocabulary Size:\", len(tgt_vocab))\n",
    "\n",
    "\n",
    "# Set random seed for PyTorch CPU operations\n",
    "encoder = Encoder(vocab_inp_size, embedding_dim, units, BATCH_SIZE).to(device)\n",
    "\n",
    "# Initialize the attention layer\n",
    "attention_layer = BahdanauAttention(units)\n",
    "\n",
    "# Initialize the decoder\n",
    "\n",
    "decoder = Decoder(vocab_tar_size, embedding_dim, units, BATCH_SIZE).to(device)\n",
    "\n",
    "# Optimizer\n",
    "optimizer = optim.Adam(list(encoder.parameters()) + list(decoder.parameters()), lr=0.001)\n",
    "\n",
    "# Custom Loss Function\n",
    "def loss_function(real, pred):\n",
    "    # Mask for non-zero tokens in the target\n",
    "    mask = real.ne(0)\n",
    "    loss = F.cross_entropy(pred, real, reduction='none')\n",
    "    loss = loss * mask\n",
    "    return loss.mean()\n",
    "\n",
    "# Training Step Function\n",
    "def train_step(inp, targ, enc_hidden):\n",
    "    # Move data to the device\n",
    "    inp, targ, enc_hidden = inp.to(device), targ.to(device), enc_hidden.to(device)\n",
    "\n",
    "    loss = 0\n",
    "    optimizer.zero_grad()\n",
    "\n",
    "    current_batch_size = inp.size(0)\n",
    "    enc_hidden = enc_hidden[:, :current_batch_size, :]\n",
    "\n",
    "    enc_output, enc_hidden = encoder(inp, enc_hidden)\n",
    "    dec_hidden = enc_hidden\n",
    "\n",
    "    sos_token_index = tgt_vocab['<sos>']\n",
    "    dec_input = torch.full((current_batch_size, 1), sos_token_index, dtype=torch.long, device=inp.device)\n",
    "\n",
    "    for t in range(1, targ.size(1)):\n",
    "        predictions, dec_hidden, _ = decoder(dec_input, dec_hidden, enc_output)\n",
    "        loss += loss_function(targ[:, t], predictions.squeeze(1))\n",
    "        dec_input = targ[:, t].unsqueeze(1)\n",
    "\n",
    "    batch_loss = loss / int(targ.size(1))\n",
    "    batch_loss.backward()\n",
    "    optimizer.step()\n",
    "\n",
    "    return batch_loss.item()\n",
    "\n",
    "# Training Loop\n",
    "EPOCHS = 40\n",
    "for epoch in tqdm(range(EPOCHS)):\n",
    "    total_loss = 0\n",
    "\n",
    "    for inp, targ in train_loader:\n",
    "        current_batch_size = inp.size(0)\n",
    "        # Initialize hidden state with the correct current batch size\n",
    "        enc_hidden = encoder.initialize_hidden_state(current_batch_size).to(device)\n",
    "\n",
    "        \n",
    "        batch_loss = train_step(inp, targ, enc_hidden)\n",
    "        total_loss += batch_loss\n",
    "\n",
    "    if epoch % 4 == 0:\n",
    "        print(f'Epoch {epoch + 1}/{EPOCHS}, Loss: {total_loss / len(train_loader)}')\n",
    "\n",
    "        \n",
    "        \n",
    "#save the model \n",
    "torch.save(encoder.state_dict(), 'encoder.pth')\n",
    "torch.save(decoder.state_dict(), 'decoder.pth')"
   ]
  },
  {
   "cell_type": "code",
   "execution_count": null,
   "id": "8ea97cc1",
   "metadata": {},
   "outputs": [],
   "source": []
  }
 ],
 "metadata": {
  "kernelspec": {
   "display_name": "Python 3 (ipykernel)",
   "language": "python",
   "name": "python3"
  },
  "language_info": {
   "codemirror_mode": {
    "name": "ipython",
    "version": 3
   },
   "file_extension": ".py",
   "mimetype": "text/x-python",
   "name": "python",
   "nbconvert_exporter": "python",
   "pygments_lexer": "ipython3",
   "version": "3.9.18"
  }
 },
 "nbformat": 4,
 "nbformat_minor": 5
}
