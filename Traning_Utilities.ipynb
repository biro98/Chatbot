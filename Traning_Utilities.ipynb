{
 "cells": [
  {
   "cell_type": "code",
   "execution_count": 1,
   "id": "eaffb727",
   "metadata": {},
   "outputs": [
    {
     "name": "stdout",
     "output_type": "stream",
     "text": [
      "Batch shapes: torch.Size([64, 20]) torch.Size([64, 15])\n",
      "2107\n",
      "2131\n",
      "Device: cpu\n",
      "2107\n",
      "2131\n",
      "Source Vocabulary Size: 2107\n",
      "Target Vocabulary Size: 2131\n"
     ]
    },
    {
     "name": "stderr",
     "output_type": "stream",
     "text": [
      "  2%|█                                           | 1/40 [01:17<50:41, 78.00s/it]"
     ]
    },
    {
     "name": "stdout",
     "output_type": "stream",
     "text": [
      "Epoch 1/40, Loss: 2.2938504954601857\n"
     ]
    },
    {
     "name": "stderr",
     "output_type": "stream",
     "text": [
      " 12%|█████▌                                      | 5/40 [05:51<40:25, 69.31s/it]"
     ]
    },
    {
     "name": "stdout",
     "output_type": "stream",
     "text": [
      "Epoch 5/40, Loss: 1.1056782730082249\n"
     ]
    },
    {
     "name": "stderr",
     "output_type": "stream",
     "text": [
      " 22%|█████████▉                                  | 9/40 [10:34<36:39, 70.96s/it]"
     ]
    },
    {
     "name": "stdout",
     "output_type": "stream",
     "text": [
      "Epoch 9/40, Loss: 0.16371341208194165\n"
     ]
    },
    {
     "name": "stderr",
     "output_type": "stream",
     "text": [
      " 32%|█████████████▉                             | 13/40 [15:31<32:49, 72.94s/it]"
     ]
    },
    {
     "name": "stdout",
     "output_type": "stream",
     "text": [
      "Epoch 13/40, Loss: 0.02625366375642888\n"
     ]
    },
    {
     "name": "stderr",
     "output_type": "stream",
     "text": [
      " 42%|██████████████████▎                        | 17/40 [20:23<28:02, 73.13s/it]"
     ]
    },
    {
     "name": "stdout",
     "output_type": "stream",
     "text": [
      "Epoch 17/40, Loss: 0.01864302252478739\n"
     ]
    },
    {
     "name": "stderr",
     "output_type": "stream",
     "text": [
      " 52%|██████████████████████▌                    | 21/40 [25:56<25:36, 80.89s/it]"
     ]
    },
    {
     "name": "stdout",
     "output_type": "stream",
     "text": [
      "Epoch 21/40, Loss: 0.015422908995459055\n"
     ]
    },
    {
     "name": "stderr",
     "output_type": "stream",
     "text": [
      " 62%|██████████████████████████▉                | 25/40 [31:37<20:54, 83.63s/it]"
     ]
    },
    {
     "name": "stdout",
     "output_type": "stream",
     "text": [
      "Epoch 25/40, Loss: 0.01460023790082716\n"
     ]
    },
    {
     "name": "stderr",
     "output_type": "stream",
     "text": [
      " 72%|███████████████████████████████▏           | 29/40 [37:21<15:57, 87.08s/it]"
     ]
    },
    {
     "name": "stdout",
     "output_type": "stream",
     "text": [
      "Epoch 29/40, Loss: 0.020350097658786367\n"
     ]
    },
    {
     "name": "stderr",
     "output_type": "stream",
     "text": [
      " 82%|███████████████████████████████████▍       | 33/40 [43:17<10:09, 87.03s/it]"
     ]
    },
    {
     "name": "stdout",
     "output_type": "stream",
     "text": [
      "Epoch 33/40, Loss: 0.01705871930623308\n"
     ]
    },
    {
     "name": "stderr",
     "output_type": "stream",
     "text": [
      " 92%|███████████████████████████████████████▊   | 37/40 [48:42<04:06, 82.17s/it]"
     ]
    },
    {
     "name": "stdout",
     "output_type": "stream",
     "text": [
      "Epoch 37/40, Loss: 0.016087393593439397\n"
     ]
    },
    {
     "name": "stderr",
     "output_type": "stream",
     "text": [
      "100%|███████████████████████████████████████████| 40/40 [52:44<00:00, 79.11s/it]\n"
     ]
    }
   ],
   "source": [
    "import torch\n",
    "import pickle\n",
    "import torch.optim as optim\n",
    "import torch.nn.functional as F\n",
    "from tqdm import tqdm\n",
    "\n",
    "\n",
    "%run 'Dataset_and_preprocessing.ipynb'\n",
    "\n",
    "%run 'model.ipynb'\n",
    "\n",
    "print(\"Source Vocabulary Size:\", len(src_vocab))\n",
    "print(\"Target Vocabulary Size:\", len(tgt_vocab))\n",
    "\n",
    "\n",
    "# Set random seed for PyTorch CPU operations\n",
    "encoder = Encoder(vocab_inp_size, embedding_dim, units, BATCH_SIZE).to(device)\n",
    "\n",
    "# Initialize the attention layer\n",
    "attention_layer = BahdanauAttention(units)\n",
    "\n",
    "# Initialize the decoder\n",
    "\n",
    "decoder = Decoder(vocab_tar_size, embedding_dim, units, BATCH_SIZE).to(device)\n",
    "\n",
    "# Optimizer\n",
    "optimizer = optim.Adam(list(encoder.parameters()) + list(decoder.parameters()), lr=0.001)\n",
    "\n",
    "# Custom Loss Function\n",
    "def loss_function(real, pred):\n",
    "    # Mask for non-zero tokens in the target\n",
    "    mask = real.ne(0)\n",
    "    loss = F.cross_entropy(pred, real, reduction='none')\n",
    "    loss = loss * mask\n",
    "    return loss.mean()\n",
    "\n",
    "# Training Step Function\n",
    "def train_step(inp, targ, enc_hidden):\n",
    "    # Move data to the device\n",
    "    inp, targ, enc_hidden = inp.to(device), targ.to(device), enc_hidden.to(device)\n",
    "\n",
    "    loss = 0\n",
    "    optimizer.zero_grad()\n",
    "\n",
    "    current_batch_size = inp.size(0)\n",
    "    enc_hidden = enc_hidden[:, :current_batch_size, :]\n",
    "\n",
    "    enc_output, enc_hidden = encoder(inp, enc_hidden)\n",
    "    dec_hidden = enc_hidden\n",
    "\n",
    "    sos_token_index = tgt_vocab['<sos>']\n",
    "    dec_input = torch.full((current_batch_size, 1), sos_token_index, dtype=torch.long, device=inp.device)\n",
    "\n",
    "    for t in range(1, targ.size(1)):\n",
    "        predictions, dec_hidden, _ = decoder(dec_input, dec_hidden, enc_output)\n",
    "        loss += loss_function(targ[:, t], predictions.squeeze(1))\n",
    "        dec_input = targ[:, t].unsqueeze(1)\n",
    "\n",
    "    batch_loss = loss / int(targ.size(1))\n",
    "    batch_loss.backward()\n",
    "    optimizer.step()\n",
    "\n",
    "    return batch_loss.item()\n",
    "\n",
    "# Training Loop\n",
    "EPOCHS = 40\n",
    "for epoch in tqdm(range(EPOCHS)):\n",
    "    total_loss = 0\n",
    "\n",
    "    for inp, targ in train_loader:\n",
    "        current_batch_size = inp.size(0)\n",
    "        # Initialize hidden state with the correct current batch size\n",
    "        enc_hidden = encoder.initialize_hidden_state(current_batch_size).to(device)\n",
    "\n",
    "        \n",
    "        batch_loss = train_step(inp, targ, enc_hidden)\n",
    "        total_loss += batch_loss\n",
    "\n",
    "    if epoch % 4 == 0:\n",
    "        print(f'Epoch {epoch + 1}/{EPOCHS}, Loss: {total_loss / len(train_loader)}')\n",
    "\n",
    "        \n",
    "        \n",
    "#save the model \n",
    "torch.save(encoder.state_dict(), 'encoder.pth')\n",
    "torch.save(decoder.state_dict(), 'decoder.pth')"
   ]
  }
 ],
 "metadata": {
  "kernelspec": {
   "display_name": "Python 3 (ipykernel)",
   "language": "python",
   "name": "python3"
  },
  "language_info": {
   "codemirror_mode": {
    "name": "ipython",
    "version": 3
   },
   "file_extension": ".py",
   "mimetype": "text/x-python",
   "name": "python",
   "nbconvert_exporter": "python",
   "pygments_lexer": "ipython3",
   "version": "3.9.18"
  }
 },
 "nbformat": 4,
 "nbformat_minor": 5
}
