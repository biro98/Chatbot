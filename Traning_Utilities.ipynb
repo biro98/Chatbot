{
 "cells": [
  {
   "cell_type": "code",
   "execution_count": 1,
   "id": "eaffb727",
   "metadata": {},
   "outputs": [
    {
     "name": "stdout",
     "output_type": "stream",
     "text": [
      "Batch shapes: torch.Size([64, 20]) torch.Size([64, 15])\n",
      "2107\n",
      "2131\n",
      "Device: cpu\n",
      "2107\n",
      "2131\n",
      "Source Vocabulary Size: 2107\n",
      "Target Vocabulary Size: 2131\n"
     ]
    },
    {
     "name": "stderr",
     "output_type": "stream",
     "text": [
      "  2%|█                                           | 1/40 [01:17<50:41, 78.00s/it]"
     ]
    },
    {
     "name": "stdout",
     "output_type": "stream",
     "text": [
      "Epoch 1/40, Loss: 2.2938504954601857\n"
     ]
    },
    {
     "name": "stderr",
     "output_type": "stream",
     "text": [
      " 12%|█████▌                                      | 5/40 [05:51<40:25, 69.31s/it]"
     ]
    },
    {
     "name": "stdout",
     "output_type": "stream",
     "text": [
      "Epoch 5/40, Loss: 1.1056782730082249\n"
     ]
    },
    {
     "name": "stderr",
     "output_type": "stream",
     "text": [
      " 22%|█████████▉                                  | 9/40 [10:34<36:39, 70.96s/it]"
     ]
    },
    {
     "name": "stdout",
     "output_type": "stream",
     "text": [
      "Epoch 9/40, Loss: 0.16371341208194165\n"
     ]
    },
    {
     "name": "stderr",
     "output_type": "stream",
     "text": [
      " 32%|█████████████▉                             | 13/40 [15:31<32:49, 72.94s/it]"
     ]
    },
    {
     "name": "stdout",
     "output_type": "stream",
     "text": [
      "Epoch 13/40, Loss: 0.02625366375642888\n"
     ]
    },
    {
     "name": "stderr",
     "output_type": "stream",
     "text": [
      " 42%|██████████████████▎                        | 17/40 [20:23<28:02, 73.13s/it]"
     ]
    },
    {
     "name": "stdout",
     "output_type": "stream",
     "text": [
      "Epoch 17/40, Loss: 0.01864302252478739\n"
     ]
    },
    {
     "name": "stderr",
     "output_type": "stream",
     "text": [
      " 52%|██████████████████████▌                    | 21/40 [25:56<25:36, 80.89s/it]"
     ]
    },
    {
     "name": "stdout",
     "output_type": "stream",
     "text": [
      "Epoch 21/40, Loss: 0.015422908995459055\n"
     ]
    },
    {
     "name": "stderr",
     "output_type": "stream",
     "text": [
      " 62%|██████████████████████████▉                | 25/40 [31:37<20:54, 83.63s/it]"
     ]
    },
    {
     "name": "stdout",
     "output_type": "stream",
     "text": [
      "Epoch 25/40, Loss: 0.01460023790082716\n"
     ]
    },
    {
     "name": "stderr",
     "output_type": "stream",
     "text": [
      " 72%|███████████████████████████████▏           | 29/40 [37:21<15:57, 87.08s/it]"
     ]
    },
    {
     "name": "stdout",
     "output_type": "stream",
     "text": [
      "Epoch 29/40, Loss: 0.020350097658786367\n"
     ]
    },
    {
     "name": "stderr",
     "output_type": "stream",
     "text": [
      " 82%|███████████████████████████████████▍       | 33/40 [43:17<10:09, 87.03s/it]"
     ]
    },
    {
     "name": "stdout",
     "output_type": "stream",
     "text": [
      "Epoch 33/40, Loss: 0.01705871930623308\n"
     ]
    },
    {
     "name": "stderr",
     "output_type": "stream",
     "text": [
      " 92%|███████████████████████████████████████▊   | 37/40 [48:42<04:06, 82.17s/it]"
     ]
    },
    {
     "name": "stdout",
     "output_type": "stream",
     "text": [
      "Epoch 37/40, Loss: 0.016087393593439397\n"
     ]
    },
    {
     "name": "stderr",
     "output_type": "stream",
     "text": [
      "100%|███████████████████████████████████████████| 40/40 [52:44<00:00, 79.11s/it]\n"
     ]
    }
   ],
   "source": [
    "import torch\n",
    "import pickle\n",
    "import torch.optim as optim\n",
    "import torch.nn.functional as F\n",
    "from tqdm import tqdm\n",
    "\n",
    "\n",
    "%run 'Dataset_and_preprocessing.ipynb'\n",
    "\n",
    "%run 'model.ipynb'\n",
    "\n",
    "print(\"Source Vocabulary Size:\", len(src_vocab))\n",
    "print(\"Target Vocabulary Size:\", len(tgt_vocab))\n",
    "\n",
    "\n",
    "# Set random seed for PyTorch CPU operations\n",
    "encoder = Encoder(vocab_inp_size, embedding_dim, units, BATCH_SIZE).to(device)\n",
    "\n",
    "# Initialize the attention layer\n",
    "attention_layer = BahdanauAttention(units)\n",
    "\n",
    "# Initialize the decoder\n",
    "\n",
    "decoder = Decoder(vocab_tar_size, embedding_dim, units, BATCH_SIZE).to(device)\n",
    "\n",
    "# Optimizer\n",
    "optimizer = optim.Adam(list(encoder.parameters()) + list(decoder.parameters()), lr=0.001)\n",
    "\n",
    "# Custom Loss Function\n",
    "def loss_function(real, pred):\n",
    "    # Mask for non-zero tokens in the target\n",
    "    mask = real.ne(0)\n",
    "    loss = F.cross_entropy(pred, real, reduction='none')\n",
    "    loss = loss * mask\n",
    "    return loss.mean()\n",
    "\n",
    "# Training Step Function\n",
    "def train_step(inp, targ, enc_hidden):\n",
    "    # Move data to the device\n",
    "    inp, targ, enc_hidden = inp.to(device), targ.to(device), enc_hidden.to(device)\n",
    "\n",
    "    loss = 0\n",
    "    optimizer.zero_grad()\n",
    "\n",
    "    current_batch_size = inp.size(0)\n",
    "    enc_hidden = enc_hidden[:, :current_batch_size, :]\n",
    "\n",
    "    enc_output, enc_hidden = encoder(inp, enc_hidden)\n",
    "    dec_hidden = enc_hidden\n",
    "\n",
    "    sos_token_index = tgt_vocab['<sos>']\n",
    "    dec_input = torch.full((current_batch_size, 1), sos_token_index, dtype=torch.long, device=inp.device)\n",
    "\n",
    "    for t in range(1, targ.size(1)):\n",
    "        predictions, dec_hidden, _ = decoder(dec_input, dec_hidden, enc_output)\n",
    "        loss += loss_function(targ[:, t], predictions.squeeze(1))\n",
    "        dec_input = targ[:, t].unsqueeze(1)\n",
    "\n",
    "    batch_loss = loss / int(targ.size(1))\n",
    "    batch_loss.backward()\n",
    "    optimizer.step()\n",
    "\n",
    "    return batch_loss.item()\n",
    "\n",
    "# Training Loop\n",
    "EPOCHS = 40\n",
    "for epoch in tqdm(range(EPOCHS)):\n",
    "    total_loss = 0\n",
    "\n",
    "    for inp, targ in train_loader:\n",
    "        current_batch_size = inp.size(0)\n",
    "        # Initialize hidden state with the correct current batch size\n",
    "        enc_hidden = encoder.initialize_hidden_state(current_batch_size).to(device)\n",
    "\n",
    "        \n",
    "        batch_loss = train_step(inp, targ, enc_hidden)\n",
    "        total_loss += batch_loss\n",
    "\n",
    "    if epoch % 4 == 0:\n",
    "        print(f'Epoch {epoch + 1}/{EPOCHS}, Loss: {total_loss / len(train_loader)}')\n",
    "\n",
    "        \n",
    "        \n",
    "#save the model \n",
    "torch.save(encoder.state_dict(), 'encoder.pth')\n",
    "torch.save(decoder.state_dict(), 'decoder.pth')"
   ]
  },
  {
   "cell_type": "code",
   "execution_count": null,
   "id": "9399b99c",
   "metadata": {},
   "outputs": [],
   "source": [
    "max_length_targ = max(len(t.split()) for t in train_data['answer'])\n",
    "\n",
    "def evaluate(sentence):\n",
    "    sentence = clean_text(sentence)\n",
    "\n",
    "    inputs = [src_vocab[token] for token in sentence.split(' ')]\n",
    "    inputs = torch.tensor([inputs]).to(device)\n",
    "\n",
    "    result = ''\n",
    "\n",
    "    # Initialize the hidden state with zeros\n",
    "    hidden = torch.zeros((1, 1, units)).to(device)  # Modify the shape according to your GRU layer\n",
    "    enc_out, enc_hidden = encoder(inputs, hidden)\n",
    "\n",
    "    dec_hidden = enc_hidden\n",
    "    dec_input = torch.tensor([[tgt_vocab['<sos>']]], dtype=torch.long).to(device)\n",
    "\n",
    "    for t in range(max_length_targ):\n",
    "        predictions, dec_hidden, _ = decoder(dec_input, dec_hidden, enc_out)\n",
    "\n",
    "        predicted_id = torch.argmax(predictions[0]).item()\n",
    "\n",
    "        # Reverse lookup function\n",
    "        def index_to_word(vocab, index):\n",
    "            return vocab.get_itos()[index]\n",
    "\n",
    "        if index_to_word(tgt_vocab, predicted_id) == '<eos>':\n",
    "            break\n",
    "\n",
    "        result += index_to_word(tgt_vocab, predicted_id) + ' '\n",
    "\n",
    "        # The predicted ID is fed back into the model\n",
    "        dec_input = torch.tensor([[predicted_id]], dtype=torch.long).to(device)\n",
    "\n",
    "    return result, sentence\n",
    "\n",
    "\n",
    "# Example usage\n",
    "def ask(sentence):\n",
    "    result, sentence = evaluate(sentence)\n",
    "\n",
    "    print('Question: %s' % (sentence))\n",
    "    print('Predicted answer: {}'.format(result))\n",
    "\n",
    "# Load questions and answers from a file\n",
    "questions = []\n",
    "answers = []\n",
    "with open(\"./dialogs.txt\", 'r') as f:\n",
    "    for line in f:\n",
    "        line = line.split('\\t')\n",
    "        questions.append(line[0])\n",
    "        answers.append(line[1])\n",
    "\n",
    "print(len(questions) == len(answers))\n",
    "\n"
   ]
  },
  {
   "cell_type": "code",
   "execution_count": null,
   "id": "e8bd4169",
   "metadata": {},
   "outputs": [],
   "source": [
    "# Example usage with a specific question\n",
    "print(ask(questions[15]))\n",
    "print(answers[15])"
   ]
  },
  {
   "cell_type": "code",
   "execution_count": null,
   "id": "ab8fdbfd",
   "metadata": {},
   "outputs": [],
   "source": [
    "# Function to interactively ask questions and get answers\n",
    "def interact_with_model():\n",
    "    while True:\n",
    "        # Get user input\n",
    "        user_input = input(\"Type your question (or 'exit' to quit): \")\n",
    "\n",
    "        # Check if the user wants to exit\n",
    "        if user_input.lower() == 'exit':\n",
    "            break\n",
    "\n",
    "        # Get the model's answer\n",
    "        answer = evaluate(user_input)\n",
    "\n",
    "        # Display the model's answer\n",
    "        print(\"Model's answer:\", answer)\n",
    "        print(\"\\n\")\n",
    "\n",
    "# Start the interactive loop\n",
    "interact_with_model()\n"
   ]
  }
 ],
 "metadata": {
  "kernelspec": {
   "display_name": "Python 3 (ipykernel)",
   "language": "python",
   "name": "python3"
  },
  "language_info": {
   "codemirror_mode": {
    "name": "ipython",
    "version": 3
   },
   "file_extension": ".py",
   "mimetype": "text/x-python",
   "name": "python",
   "nbconvert_exporter": "python",
   "pygments_lexer": "ipython3",
   "version": "3.9.18"
  }
 },
 "nbformat": 4,
 "nbformat_minor": 5
}
